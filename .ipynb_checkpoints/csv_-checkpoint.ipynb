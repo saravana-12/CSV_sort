{
 "cells": [
  {
   "cell_type": "code",
   "execution_count": 11,
   "metadata": {},
   "outputs": [],
   "source": [
    "import csv\n",
    "f1 = open (\"file.csv\",\"r\") # open input file for reading \n",
    "users_dict = {}\n",
    "with open('out.csv', 'w',newline='') as f: # output csv file\n",
    "    with open('file.csv') as csvfile: # input csv file\n",
    "        reader = csv.DictReader(csvfile) \n",
    "        csv_columns = reader.fieldnames\n",
    "        w = csv.DictWriter(f, fieldnames=csv_columns)\n",
    "        w.writeheader()\n",
    "        for row in reader:\n",
    "            words=row['First Name']\n",
    "            wordlist = words.split()\n",
    "            for j in wordlist:\n",
    "                if (j == 'LLC'or j == 'TRUST' or j == 'INC' or j == 'INCORPORATED' or j == 'LP' or j == 'BANK' or j == 'DEPT' or j == 'NATIONAL'or j == 'ASSOCIATION'or j=='CO' or j == 'CORP' or j == 'LTD' or j == 'TRUSTEE' or j == 'TRUS' or j == 'VENTURE' or j == 'INVESTMENT' or j == 'ESTATE' or j =='LLLP' or j == 'SOCIETY'):\n",
    "                    row['Type'] = 'Company'\n",
    "                    row['Company'] = words\n",
    "                    row['First Name'] = \"\"\n",
    "                    row['Last Name'] = \"\"\n",
    "                    break\n",
    "                else:\n",
    "                    element = \"&\"\n",
    "                    try:\n",
    "                        target_index = wordlist.index(element) + 1\n",
    "                        temp = wordlist[1:(target_index-1)]\n",
    "                    except ValueError:\n",
    "                        temp = wordlist[1:]\n",
    "                        target_index = None\n",
    "                    row['Type'] = 'Individual'\n",
    "                    row['First Name'] = \" \".join(temp)\n",
    "                    row['Last Name'] = wordlist[0]\n",
    "            users_dict.update(row)\n",
    "            w.writerow(users_dict)\n",
    "f1.close()"
   ]
  },
  {
   "cell_type": "code",
   "execution_count": null,
   "metadata": {
    "collapsed": true
   },
   "outputs": [],
   "source": []
  }
 ],
 "metadata": {
  "kernelspec": {
   "display_name": "Python 3",
   "language": "python",
   "name": "python3"
  },
  "language_info": {
   "codemirror_mode": {
    "name": "ipython",
    "version": 3
   },
   "file_extension": ".py",
   "mimetype": "text/x-python",
   "name": "python",
   "nbconvert_exporter": "python",
   "pygments_lexer": "ipython3",
   "version": "3.6.3"
  }
 },
 "nbformat": 4,
 "nbformat_minor": 2
}
